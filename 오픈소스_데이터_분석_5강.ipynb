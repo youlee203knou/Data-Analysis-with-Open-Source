{
  "nbformat": 4,
  "nbformat_minor": 0,
  "metadata": {
    "colab": {
      "provenance": [],
      "include_colab_link": true
    },
    "kernelspec": {
      "name": "python3",
      "display_name": "Python 3"
    },
    "language_info": {
      "name": "python"
    }
  },
  "cells": [
    {
      "cell_type": "markdown",
      "metadata": {
        "id": "view-in-github",
        "colab_type": "text"
      },
      "source": [
        "<a href=\"https://colab.research.google.com/github/youlee203knou/Data-Analysis-with-Open-Source/blob/main/%EC%98%A4%ED%94%88%EC%86%8C%EC%8A%A4_%EB%8D%B0%EC%9D%B4%ED%84%B0_%EB%B6%84%EC%84%9D_5%EA%B0%95.ipynb\" target=\"_parent\"><img src=\"https://colab.research.google.com/assets/colab-badge.svg\" alt=\"Open In Colab\"/></a>"
      ]
    },
    {
      "cell_type": "markdown",
      "source": [
        "# 오픈소스 기반 데이터 분석 5강 - 데이터 저장"
      ],
      "metadata": {
        "id": "O4kC4JMknVnK"
      }
    },
    {
      "cell_type": "markdown",
      "source": [
        "## 5-1 CSV 형식 저장"
      ],
      "metadata": {
        "id": "8DfV0cZLqj_s"
      }
    },
    {
      "cell_type": "code",
      "source": [
        "import pandas as pd\n",
        "\n",
        "data = {\n",
        "    'student_id': [101, 102, 103, 104, 105],\n",
        "    'database_score': [85, 76, 92, 63, 88],\n",
        "    'cloudcomputing_score': [78, 82, 95, 70, 84],\n",
        "    'python_score': [92, 78, 85, 75, 91],\n",
        "    'watch_rate': [0.95, 0.87, 0.99, 0.80, 0.93]\n",
        "}\n",
        "## DataFrame 생성\n",
        "df = pd.DataFrame(data)\n",
        "df\n",
        "\n",
        "## CSV 형식 저장\n",
        "df.to_csv('student_analysis.csv', encoding='utf-8', index=False)"
      ],
      "metadata": {
        "id": "DztLRI9gW2lk"
      },
      "execution_count": null,
      "outputs": []
    },
    {
      "cell_type": "markdown",
      "source": [
        "## 5-2 JSON 형식 저장"
      ],
      "metadata": {
        "id": "CSABzaf3q8XU"
      }
    },
    {
      "cell_type": "code",
      "source": [
        "### 라이브러리 임포트\n",
        "import json\n",
        "import pandas as pd\n",
        "\n",
        "data = {\n",
        "    \"이름\": \"홍길동\",\n",
        "    \"나이\": 25,\n",
        "    \"거주지\": \"서울\",\n",
        "    \"관심사\": [\"프로그래밍\", \"데이터 분석\", \"여행\"]\n",
        "}\n",
        "\n",
        "## json.dump를 이용한 저장\n",
        "with open('output.json', mode='w', encoding='utf-8') as f:\n",
        "    json.dump(data, f, indent=4, ensure_ascii=False)\n",
        "\n",
        "## DataFrame을 이용한 저장\n",
        "df = pd.DataFrame([data])\n",
        "#[]는 리스트 형식으로 나타내준다. []가 없다면 딕셔녀리 형식으로 저장\n",
        "df.to_json('output_df.json', orient='columns', indent=4, force_ascii=False)\n",
        "#다양한 오리엔트의 값을 표현 표현식"
      ],
      "metadata": {
        "id": "7bAgRpizW7Vj"
      },
      "execution_count": null,
      "outputs": []
    },
    {
      "cell_type": "markdown",
      "source": [
        "## 5-3 Pandas Dataframe 데이터 추출"
      ],
      "metadata": {
        "id": "NMlsQDHtrA_x"
      }
    },
    {
      "cell_type": "code",
      "source": [
        "import pandas as pd\n",
        "\n",
        "data = {\n",
        "    \"이름\": [\"김철수\", \"이영희\", \"박민수\", \"최지훈\", \"정소희\"],\n",
        "    \"학년\": [1, 2, 3, 4, 2],\n",
        "    \"학점\": [4.2, 3.8, 4.5, 3.9, 3.5],\n",
        "    \"학과\": [\"컴퓨터학\", \"경영학\", \"농학\", \"교육학\", \"영어영문학\"],\n",
        "    \"동아리\": [\"프로그래밍\", \"독서토론\", \"로봇공학\", \"봉사활동\", \"음악감상\"]\n",
        "}\n",
        "df = pd.DataFrame(data)\n",
        "df\n",
        "\n",
        "## DataFrame 인덱스 출력\n",
        "print(df.index)\n",
        "\n",
        "## DataFrame 컬럼 출력\n",
        "print(df.columns)\n",
        "\n",
        "## DataFrame 행 출력\n",
        "print(df.values.tolist()) #tolist는 파이썬의 리스트형태\n",
        "print(df.values)\n",
        "\n",
        "## DataFrame 값 출력\n",
        "print(df.values.flatten())"
      ],
      "metadata": {
        "id": "dk3xneVAW9_g",
        "colab": {
          "base_uri": "https://localhost:8080/"
        },
        "outputId": "2c701f23-725d-40d3-eb8c-235a445ca3a6"
      },
      "execution_count": null,
      "outputs": [
        {
          "output_type": "stream",
          "name": "stdout",
          "text": [
            "RangeIndex(start=0, stop=5, step=1)\n",
            "Index(['이름', '학년', '학점', '학과', '동아리'], dtype='object')\n",
            "[['김철수', 1, 4.2, '컴퓨터학', '프로그래밍'], ['이영희', 2, 3.8, '경영학', '독서토론'], ['박민수', 3, 4.5, '농학', '로봇공학'], ['최지훈', 4, 3.9, '교육학', '봉사활동'], ['정소희', 2, 3.5, '영어영문학', '음악감상']]\n",
            "[['김철수' 1 4.2 '컴퓨터학' '프로그래밍']\n",
            " ['이영희' 2 3.8 '경영학' '독서토론']\n",
            " ['박민수' 3 4.5 '농학' '로봇공학']\n",
            " ['최지훈' 4 3.9 '교육학' '봉사활동']\n",
            " ['정소희' 2 3.5 '영어영문학' '음악감상']]\n",
            "['김철수' 1 4.2 '컴퓨터학' '프로그래밍' '이영희' 2 3.8 '경영학' '독서토론' '박민수' 3 4.5 '농학'\n",
            " '로봇공학' '최지훈' 4 3.9 '교육학' '봉사활동' '정소희' 2 3.5 '영어영문학' '음악감상']\n"
          ]
        }
      ]
    },
    {
      "cell_type": "markdown",
      "source": [
        "## 5-4 DataFrame 생성 방법"
      ],
      "metadata": {
        "id": "ILJd1GLoseqm"
      }
    },
    {
      "cell_type": "code",
      "source": [
        "import pandas as pd\n",
        "import json\n",
        "\n",
        "data = {\n",
        "    \"이름\": [\"김철수\", \"이영희\", \"박민수\", \"최지훈\", \"정소희\"],\n",
        "    \"학년\": [1, 2, 3, 4, 2],\n",
        "    \"학점\": [4.2, 3.8, 4.5, 3.9, 3.5],\n",
        "    \"학과\": [\"컴퓨터공학\", \"경영학\", \"전자공학\", \"의학\", \"심리학\"],\n",
        "    \"동아리\": [\"프로그래밍\", \"독서토론\", \"로봇공학\", \"봉사활동\", \"음악감상\"]\n",
        "}\n",
        "\n",
        "## 딕셔너리, csv, json으로 부터 DataFrame 생성\n",
        "df1 = pd.DataFrame.from_dict(data)\n",
        "df2 = pd.read_csv('students.csv')\n",
        "df3 = pd.read_json('students.json')\n",
        "\n",
        "## 세가지 방법 결과 비교\n",
        "print(df1.shape)\n",
        "print(df2.shape)\n",
        "print(df3.shape)\n"
      ],
      "metadata": {
        "id": "ISnPLEgNXAmi",
        "colab": {
          "base_uri": "https://localhost:8080/"
        },
        "outputId": "c6c00979-95e3-4a04-f93b-9b669f93b3bb"
      },
      "execution_count": null,
      "outputs": [
        {
          "output_type": "stream",
          "name": "stdout",
          "text": [
            "(5, 5)\n",
            "(5, 5)\n",
            "(5, 5)\n"
          ]
        }
      ]
    },
    {
      "cell_type": "markdown",
      "source": [
        "## 5-5 DataFrame 저장 방법"
      ],
      "metadata": {
        "id": "z1N6lAnwsdyU"
      }
    },
    {
      "cell_type": "code",
      "source": [
        "import pandas as pd\n",
        "\n",
        "data = {\n",
        "    \"이름\": [\"김철수\", \"이영희\", \"박민수\", \"최지훈\", \"정소희\"],\n",
        "    \"학년\": [1, 2, 3, 4, 2],\n",
        "    \"학점\": [4.2, 3.8, 4.5, 3.9, 3.5],\n",
        "    \"학과\": [\"컴퓨터공학\", \"경영학\", \"전자공학\", \"의학\", \"심리학\"],\n",
        "    \"동아리\": [\"프로그래밍\", \"독서토론\", \"로봇공학\", \"봉사활동\", \"음악감상\"]\n",
        "}\n",
        "\n",
        "## Dataframe 생성\n",
        "df = pd.DataFrame(data)\n",
        "\n",
        "## CSV, JSON 형식으로 저장\n",
        "df.to_csv('students_score.csv')\n",
        "df.to_json('students_score.json', force_ascii=False)\n",
        "\n",
        "## HTML 형식으로 저장\n",
        "html_table = df.to_html()\n",
        "with open('student_scores.html', 'w') as f:\n",
        "    f.write(html_table)"
      ],
      "metadata": {
        "id": "_dqoWCRoXDrJ"
      },
      "execution_count": null,
      "outputs": []
    },
    {
      "cell_type": "markdown",
      "source": [
        "## 5-6 실습 시나리오"
      ],
      "metadata": {
        "id": "ifBFAyulsdJb"
      }
    },
    {
      "cell_type": "markdown",
      "source": [
        "## 데이터 수집"
      ],
      "metadata": {
        "id": "muFj6okKyXy6"
      }
    },
    {
      "cell_type": "code",
      "source": [
        "import requests\n",
        "\n",
        "url=\"http://openapi.seoul.go.kr:8088/4455704179796f75373754466b5969/json/energyUseDataSummaryInfo/1/5/2015\"\n",
        "api_key = \"4455704179796f75373754466b5969\"\n",
        "\n",
        "\n",
        "## 데이터 수집\n",
        "response = requests.get(url)\n",
        "\n",
        "## 호출 성공/실패 출력 #datafram화를 위해서\n",
        "response.json()\n"
      ],
      "metadata": {
        "id": "7yCozmQeXJcO",
        "outputId": "76a9ad54-0125-403d-f57d-af4db0f1f43d",
        "colab": {
          "base_uri": "https://localhost:8080/"
        }
      },
      "execution_count": 4,
      "outputs": [
        {
          "output_type": "execute_result",
          "data": {
            "text/plain": [
              "{'energyUseDataSummaryInfo': {'list_total_count': 84,\n",
              "  'RESULT': {'CODE': 'INFO-000', 'MESSAGE': '정상 처리되었습니다'},\n",
              "  'row': [{'YEAR': '2015',\n",
              "    'MON': '12',\n",
              "    'MM_TYPE': '학교',\n",
              "    'CNT': '4142',\n",
              "    'EUS': '129747032',\n",
              "    'EUS1': '142880159',\n",
              "    'EUS2': '138232678',\n",
              "    'ECO2_1': '-10809386.5',\n",
              "    'ECO2_2': '-4583179.876',\n",
              "    'GUS': '7146196',\n",
              "    'GUS1': '8370038',\n",
              "    'GUS2': '8426789',\n",
              "    'GCO2_1': '-1252217.5',\n",
              "    'GCO2_2': '-2804967.2',\n",
              "    'WUS': '2243488.6',\n",
              "    'WUS1': '2288624.2',\n",
              "    'WUS2': '2348669.6',\n",
              "    'WCO2_1': '-75158.3',\n",
              "    'WCO2_2': '-24952.5556',\n",
              "    'HUS': '1431',\n",
              "    'HUS1': '1946',\n",
              "    'HUS2': '1858',\n",
              "    'HCO2_1': '-471',\n",
              "    'HCO2_2': '-1875.522',\n",
              "    'REG_DATE': '2016-03-05 04:00:01.0'},\n",
              "   {'YEAR': '2015',\n",
              "    'MON': '12',\n",
              "    'MM_TYPE': '개인',\n",
              "    'CNT': '852483',\n",
              "    'EUS': '203388142',\n",
              "    'EUS1': '209110435',\n",
              "    'EUS2': '210601335',\n",
              "    'ECO2_1': '-6467743',\n",
              "    'ECO2_2': '-2742323.032',\n",
              "    'GUS': '40095231',\n",
              "    'GUS1': '44067763',\n",
              "    'GUS2': '47222920',\n",
              "    'GCO2_1': '-5550110.5',\n",
              "    'GCO2_2': '-12432247.52',\n",
              "    'WUS': '13904162.958',\n",
              "    'WUS1': '13901292.844',\n",
              "    'WUS2': '13985482.345',\n",
              "    'WCO2_1': '-39224.6365',\n",
              "    'WCO2_2': '-13022.579318',\n",
              "    'HUS': '21102616.717',\n",
              "    'HUS1': '26420971.573',\n",
              "    'HUS2': '24676994.275',\n",
              "    'HCO2_1': '-4446366.207',\n",
              "    'HCO2_2': '-59658969.202058',\n",
              "    'REG_DATE': '2016-03-05 04:00:01.0'},\n",
              "   {'YEAR': '2015',\n",
              "    'MON': '12',\n",
              "    'MM_TYPE': '소상공인',\n",
              "    'CNT': '13502',\n",
              "    'EUS': '45317360',\n",
              "    'EUS1': '47903086',\n",
              "    'EUS2': '47496110',\n",
              "    'ECO2_1': '-2382238',\n",
              "    'ECO2_2': '-1010068.912',\n",
              "    'GUS': '3587588',\n",
              "    'GUS1': '3976103',\n",
              "    'GUS2': '3978904',\n",
              "    'GCO2_1': '-389915.5',\n",
              "    'GCO2_2': '-873410.72',\n",
              "    'WUS': '1258473.65',\n",
              "    'WUS1': '1274858.8',\n",
              "    'WUS2': '1275190.8',\n",
              "    'WCO2_1': '-16551.15',\n",
              "    'WCO2_2': '-5494.9818',\n",
              "    'HUS': '0',\n",
              "    'HUS1': '0',\n",
              "    'HUS2': '0',\n",
              "    'HCO2_1': '0',\n",
              "    'HCO2_2': '0',\n",
              "    'REG_DATE': '2016-03-05 04:00:01.0'},\n",
              "   {'YEAR': '2015',\n",
              "    'MON': '12',\n",
              "    'MM_TYPE': '종교단체',\n",
              "    'CNT': '288',\n",
              "    'EUS': '3390717',\n",
              "    'EUS1': '3972522',\n",
              "    'EUS2': '3913755',\n",
              "    'ECO2_1': '-552421.5',\n",
              "    'ECO2_2': '-234226.716',\n",
              "    'GUS': '211045',\n",
              "    'GUS1': '234612',\n",
              "    'GUS2': '250167',\n",
              "    'GCO2_1': '-31344.5',\n",
              "    'GCO2_2': '-70211.68',\n",
              "    'WUS': '31990',\n",
              "    'WUS1': '30187',\n",
              "    'WUS2': '29228',\n",
              "    'WCO2_1': '2282.5',\n",
              "    'WCO2_2': '757.79',\n",
              "    'HUS': '0',\n",
              "    'HUS1': '0',\n",
              "    'HUS2': '0',\n",
              "    'HCO2_1': '0',\n",
              "    'HCO2_2': '0',\n",
              "    'REG_DATE': '2016-03-05 04:00:01.0'},\n",
              "   {'YEAR': '2015',\n",
              "    'MON': '12',\n",
              "    'MM_TYPE': '기업',\n",
              "    'CNT': '6661',\n",
              "    'EUS': '445894696',\n",
              "    'EUS1': '482299586',\n",
              "    'EUS2': '475775696',\n",
              "    'ECO2_1': '-33142945',\n",
              "    'ECO2_2': '-14052608.68',\n",
              "    'GUS': '17776013',\n",
              "    'GUS1': '20985549',\n",
              "    'GUS2': '21060548',\n",
              "    'GCO2_1': '-3247035.5',\n",
              "    'GCO2_2': '-7273359.52',\n",
              "    'WUS': '4058540.8',\n",
              "    'WUS1': '4108844.2',\n",
              "    'WUS2': '4089066.4',\n",
              "    'WCO2_1': '-40414.5',\n",
              "    'WCO2_2': '-13417.614',\n",
              "    'HUS': '0',\n",
              "    'HUS1': '0',\n",
              "    'HUS2': '0',\n",
              "    'HCO2_1': '0',\n",
              "    'HCO2_2': '0',\n",
              "    'REG_DATE': '2016-03-05 04:00:01.0'}]}}"
            ]
          },
          "metadata": {},
          "execution_count": 4
        }
      ]
    },
    {
      "cell_type": "markdown",
      "source": [
        "## 데이터 프레임 생성"
      ],
      "metadata": {
        "id": "d6mT4IxkySzI"
      }
    },
    {
      "cell_type": "code",
      "source": [
        "import pandas as pd\n",
        "\n",
        "## requests로부터 response, body, item 항목 읽기\n",
        "data = response.json()['energyUseDataSummaryInfo']['row']\n",
        "print(type(data)) #data의 타입\n",
        "print(len(data)) #data의 길이\n",
        "print(data[0]) #첫번째 데이터를 출력\n",
        "\n",
        "df = pd.DataFrame(data) #데이터를 데이터프레임화시킴\n",
        "df['HUS'] #pm25Grade의 항목만 가져온다.\n"
      ],
      "metadata": {
        "id": "HOOo9qTsXLkB",
        "colab": {
          "base_uri": "https://localhost:8080/",
          "height": 316
        },
        "outputId": "fc0dadfa-5a5e-42ae-a664-991c8bb39bd1"
      },
      "execution_count": 9,
      "outputs": [
        {
          "output_type": "stream",
          "name": "stdout",
          "text": [
            "<class 'list'>\n",
            "5\n",
            "{'YEAR': '2015', 'MON': '12', 'MM_TYPE': '학교', 'CNT': '4142', 'EUS': '129747032', 'EUS1': '142880159', 'EUS2': '138232678', 'ECO2_1': '-10809386.5', 'ECO2_2': '-4583179.876', 'GUS': '7146196', 'GUS1': '8370038', 'GUS2': '8426789', 'GCO2_1': '-1252217.5', 'GCO2_2': '-2804967.2', 'WUS': '2243488.6', 'WUS1': '2288624.2', 'WUS2': '2348669.6', 'WCO2_1': '-75158.3', 'WCO2_2': '-24952.5556', 'HUS': '1431', 'HUS1': '1946', 'HUS2': '1858', 'HCO2_1': '-471', 'HCO2_2': '-1875.522', 'REG_DATE': '2016-03-05 04:00:01.0'}\n"
          ]
        },
        {
          "output_type": "execute_result",
          "data": {
            "text/plain": [
              "0            1431\n",
              "1    21102616.717\n",
              "2               0\n",
              "3               0\n",
              "4               0\n",
              "Name: HUS, dtype: object"
            ],
            "text/html": [
              "<div>\n",
              "<style scoped>\n",
              "    .dataframe tbody tr th:only-of-type {\n",
              "        vertical-align: middle;\n",
              "    }\n",
              "\n",
              "    .dataframe tbody tr th {\n",
              "        vertical-align: top;\n",
              "    }\n",
              "\n",
              "    .dataframe thead th {\n",
              "        text-align: right;\n",
              "    }\n",
              "</style>\n",
              "<table border=\"1\" class=\"dataframe\">\n",
              "  <thead>\n",
              "    <tr style=\"text-align: right;\">\n",
              "      <th></th>\n",
              "      <th>HUS</th>\n",
              "    </tr>\n",
              "  </thead>\n",
              "  <tbody>\n",
              "    <tr>\n",
              "      <th>0</th>\n",
              "      <td>1431</td>\n",
              "    </tr>\n",
              "    <tr>\n",
              "      <th>1</th>\n",
              "      <td>21102616.717</td>\n",
              "    </tr>\n",
              "    <tr>\n",
              "      <th>2</th>\n",
              "      <td>0</td>\n",
              "    </tr>\n",
              "    <tr>\n",
              "      <th>3</th>\n",
              "      <td>0</td>\n",
              "    </tr>\n",
              "    <tr>\n",
              "      <th>4</th>\n",
              "      <td>0</td>\n",
              "    </tr>\n",
              "  </tbody>\n",
              "</table>\n",
              "</div><br><label><b>dtype:</b> object</label>"
            ]
          },
          "metadata": {},
          "execution_count": 9
        }
      ]
    },
    {
      "cell_type": "markdown",
      "source": [
        "## 다양항 형식으로 데이터 저장\n"
      ],
      "metadata": {
        "id": "vVG0HYb0ymeM"
      }
    },
    {
      "cell_type": "code",
      "source": [
        "## csv 형식 데이터 저장\n",
        "df.to_csv('air_pollution.csv', index=False, encoding='utf-8')\n",
        "\n",
        "## JSON 형식 데이터 저장\n",
        "df.to_json('air_pollution.json', indent=4, force_ascii=False)\n",
        "\n",
        "## EXCEL 형식 데이터 저장\n",
        "df.to_excel('air_pollution.xlsx', index=False)\n",
        "\n",
        "## HTML 형식 데이터 저장\n",
        "df.to_html('air_pollution.html')"
      ],
      "metadata": {
        "id": "HW1ZodpgXNhG"
      },
      "execution_count": null,
      "outputs": []
    }
  ]
}