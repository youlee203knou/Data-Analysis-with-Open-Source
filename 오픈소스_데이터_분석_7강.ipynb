{
  "nbformat": 4,
  "nbformat_minor": 0,
  "metadata": {
    "colab": {
      "provenance": [],
      "include_colab_link": true
    },
    "kernelspec": {
      "name": "python3",
      "display_name": "Python 3"
    },
    "language_info": {
      "name": "python"
    }
  },
  "cells": [
    {
      "cell_type": "markdown",
      "metadata": {
        "id": "view-in-github",
        "colab_type": "text"
      },
      "source": [
        "<a href=\"https://colab.research.google.com/github/youlee203knou/Data-Analysis-with-Open-Source/blob/main/%EC%98%A4%ED%94%88%EC%86%8C%EC%8A%A4_%EB%8D%B0%EC%9D%B4%ED%84%B0_%EB%B6%84%EC%84%9D_7%EA%B0%95.ipynb\" target=\"_parent\"><img src=\"https://colab.research.google.com/assets/colab-badge.svg\" alt=\"Open In Colab\"/></a>"
      ]
    },
    {
      "cell_type": "markdown",
      "source": [
        "# 오픈소스 기반 데이터 분석 7강 - 데이터 전처리 2"
      ],
      "metadata": {
        "id": "tqffk7GTHWSs"
      }
    },
    {
      "cell_type": "markdown",
      "source": [
        "### 7-1 데이터 결측치 찾기"
      ],
      "metadata": {
        "id": "5DOeakEiHfq1"
      }
    },
    {
      "cell_type": "code",
      "source": [
        "import pandas as pd\n",
        "import numpy as np\n",
        "\n",
        "data = {'이름': ['김철수', '이영희', '박민수', '최지훈', '정소희'],\n",
        "        '나이': [25, 30, np.nan, 22, 35],\n",
        "        '도시': ['서울', None, '인천', '서울', '대전'],\n",
        "        '점수': [90, 85, np.nan, 80, 92]}\n",
        "\n",
        "df = pd.DataFrame(data)\n",
        "\n",
        "## 결측치 여부 확인\n",
        "df.isnull() #결측치가 있으면 true, 없으면 false\n",
        "df.isna() #isnull과 insa는 동일한 결과를 보여준다.\n",
        "\n",
        "## 열별, 행별 결측치 개수 확인\n",
        "print(df)\n",
        "df.isnull().sum() #열별로 결측치 개수 확인\n",
        "df.isnull().sum(axis=1) #축의 방향을 바꿈 # 행별로 결측치 개수 확인\n",
        "\n",
        "## 특정 열, 행 결측치 확인\n",
        "df[df.isnull().any(axis=1)] #행별로 결측치가 있는 열만 표시\n",
        "df[df['나이'].isnull()]\n",
        "\n",
        "## 결측치가 아닌 항목 확인\n",
        "df.notnull() #결측치가 없으면 true, 결측치가 있으면 false\n",
        "\n",
        "## 결측치 비율\n",
        "df.isnull().sum().sum() / (df.shape[0] * df.shape[1]) * 100\n",
        "#null값이 몇개가 있는가 #가로 x 세로 크기 = 15퍼센트의 비율"
      ],
      "metadata": {
        "id": "tA9rA_leY5Du",
        "colab": {
          "base_uri": "https://localhost:8080/"
        },
        "outputId": "e48d1d95-dd54-4b3c-ae6c-72e6e98bfa1d"
      },
      "execution_count": 1,
      "outputs": [
        {
          "output_type": "stream",
          "name": "stdout",
          "text": [
            "    이름    나이    도시    점수\n",
            "0  김철수  25.0    서울  90.0\n",
            "1  이영희  30.0  None  85.0\n",
            "2  박민수   NaN    인천   NaN\n",
            "3  최지훈  22.0    서울  80.0\n",
            "4  정소희  35.0    대전  92.0\n"
          ]
        },
        {
          "output_type": "execute_result",
          "data": {
            "text/plain": [
              "np.float64(15.0)"
            ]
          },
          "metadata": {},
          "execution_count": 1
        }
      ]
    },
    {
      "cell_type": "markdown",
      "source": [
        "### 7-2 데이터 시각화를 이용한 결측치 찾기"
      ],
      "metadata": {
        "id": "UiGS85_HHu7U"
      }
    },
    {
      "cell_type": "code",
      "source": [
        "!sudo apt-get install -y fonts-nanum\n",
        "!sudo fc-cache -fv\n",
        "!rm ~/.cache/matplotlib -rf"
      ],
      "metadata": {
        "id": "TlNVxZS9aQFy",
        "outputId": "abbf08d5-f473-46f7-f164-0366a1afe2b7",
        "colab": {
          "base_uri": "https://localhost:8080/"
        }
      },
      "execution_count": 3,
      "outputs": [
        {
          "output_type": "stream",
          "name": "stdout",
          "text": [
            "Reading package lists... Done\n",
            "Building dependency tree... Done\n",
            "Reading state information... Done\n",
            "fonts-nanum is already the newest version (20200506-1).\n",
            "0 upgraded, 0 newly installed, 0 to remove and 38 not upgraded.\n",
            "/usr/share/fonts: caching, new cache contents: 0 fonts, 1 dirs\n",
            "/usr/share/fonts/truetype: caching, new cache contents: 0 fonts, 3 dirs\n",
            "/usr/share/fonts/truetype/humor-sans: caching, new cache contents: 1 fonts, 0 dirs\n",
            "/usr/share/fonts/truetype/liberation: caching, new cache contents: 16 fonts, 0 dirs\n",
            "/usr/share/fonts/truetype/nanum: caching, new cache contents: 12 fonts, 0 dirs\n",
            "/usr/local/share/fonts: caching, new cache contents: 0 fonts, 0 dirs\n",
            "/root/.local/share/fonts: skipping, no such directory\n",
            "/root/.fonts: skipping, no such directory\n",
            "/usr/share/fonts/truetype: skipping, looped directory detected\n",
            "/usr/share/fonts/truetype/humor-sans: skipping, looped directory detected\n",
            "/usr/share/fonts/truetype/liberation: skipping, looped directory detected\n",
            "/usr/share/fonts/truetype/nanum: skipping, looped directory detected\n",
            "/var/cache/fontconfig: cleaning cache directory\n",
            "/root/.cache/fontconfig: not cleaning non-existent cache directory\n",
            "/root/.fontconfig: not cleaning non-existent cache directory\n",
            "fc-cache: succeeded\n"
          ]
        }
      ]
    },
    {
      "cell_type": "code",
      "source": [
        "import matplotlib.pyplot as plt\n",
        "plt.rc('font', family='NanumBarunGothic')"
      ],
      "metadata": {
        "id": "HJpzkrnjaRjA"
      },
      "execution_count": 5,
      "outputs": []
    },
    {
      "cell_type": "markdown",
      "source": [],
      "metadata": {
        "id": "gtBKzYLddp1g"
      }
    },
    {
      "cell_type": "code",
      "source": [
        "import numpy as np\n",
        "import pandas as pd\n",
        "\n",
        "### 시각화 라이브러리 임포트\n",
        "import matplotlib.pyplot as plt\n",
        "import seaborn as sns\n",
        "import missingno as msno\n",
        "\n",
        "data = {'이름': ['김철수', '이영희', '박민수', '최지훈', '정소희'],\n",
        "        '나이': [25, 30, np.nan, 22, 35],\n",
        "        '도시': ['서울', None, '인천', '서울', '대전'],\n",
        "        '점수': [90, 85, np.nan, 80, 92]}\n",
        "df = pd.DataFrame(data)\n",
        "\n",
        "### 결측치 히트맵\n",
        "plt.figure(figsize=(8, 6))\n",
        "sns.heatmap(df.isnull(), cbar=False)\n",
        "plt.title(\"결측치 히트맵\")\n",
        "plt.show()\n",
        "\n",
        "### 결측치 매트릭스\n",
        "msno.matrix(df)\n",
        "plt.title(\"결측치 매트릭스\")\n",
        "plt.show()"
      ],
      "metadata": {
        "id": "DWhjSi4wY-P1",
        "outputId": "7d3f82e2-c277-45d5-fe7f-b7eb4468f6a5",
        "colab": {
          "base_uri": "https://localhost:8080/",
          "height": 873
        }
      },
      "execution_count": 6,
      "outputs": [
        {
          "output_type": "display_data",
          "data": {
            "text/plain": [
              "<Figure size 800x600 with 1 Axes>"
            ],
            "image/png": "[encoded data removed]"
          },
          "metadata": {}
        },
        {
          "output_type": "display_data",
          "data": {
            "text/plain": [
              "<Figure size 2500x1000 with 2 Axes>"
            ],
            "image/png": "[encoded data removed]"
          },
          "metadata": {}
        }
      ]
    },
    {
      "cell_type": "markdown",
      "source": [
        "### 7-3 사분위 범위를 통한 이상치 찾기"
      ],
      "metadata": {
        "id": "S7oz6BSMHxf6"
      }
    },
    {
      "cell_type": "code",
      "source": [
        "import pandas as pd\n",
        "import numpy as np\n",
        "\n",
        "점수_데이터 = [72, 68, 75, 282, 64, 31, 78, 69, 88, 92, 22, 84, 61, -90, 130, 66]\n",
        "학번_데이터 = list(range(1001, 1001 + len(점수_데이터)))\n",
        "\n",
        "df = pd.DataFrame({\n",
        "    '학번': 학번_데이터,\n",
        "    '점수': 점수_데이터\n",
        "})\n",
        "\n",
        "### 사분위 범위 경계값 계산\n",
        "q1 = df['점수'].quantile(0.25)\n",
        "q3 = df['점수'].quantile(0.75)\n",
        "iqr = q3 - q1\n",
        "하한값 = q1 - 1.5 * iqr\n",
        "상한값 = q3 + 1.5 * iqr\n",
        "\n",
        "### IQR 통계량 출력\n",
        "print(q1)\n",
        "print(q3)\n",
        "print(iqr)\n",
        "print(하한값)\n",
        "print(상한값)\n"
      ],
      "metadata": {
        "id": "tNKm91q1ZCWQ",
        "outputId": "bf950b30-e4b9-4ca1-df31-90b6e8480c2c",
        "colab": {
          "base_uri": "https://localhost:8080/"
        }
      },
      "execution_count": 7,
      "outputs": [
        {
          "output_type": "stream",
          "name": "stdout",
          "text": [
            "63.25\n",
            "85.0\n",
            "21.75\n",
            "30.625\n",
            "117.625\n"
          ]
        }
      ]
    },
    {
      "cell_type": "markdown",
      "source": [
        "### 7-4 Z-점수를 통한 이상치 찾기"
      ],
      "metadata": {
        "id": "jcC6kWvsHz7s"
      }
    },
    {
      "cell_type": "code",
      "source": [
        "import pandas as pd\n",
        "import numpy as np\n",
        "\n",
        "점수_데이터 = [72, 68, 75, 282, 64, 31, 78, 69, 88, 92, 22, 84, 61, -90, 130, 66]\n",
        "학번_데이터 = list(range(1001, 1001 + len(점수_데이터)))\n",
        "\n",
        "df = pd.DataFrame({\n",
        "    '학번': 학번_데이터,\n",
        "    '점수': 점수_데이터\n",
        "})\n",
        "\n",
        "### Z-점수 계산\n",
        "점수_평균 = df['점수'].mean()\n",
        "점수_표준편차 = df['점수'].std()\n",
        "df['점수_Z'] = (df['점수'] - 점수_평균) / 점수_표준편차\n",
        "df\n",
        "\n",
        "### 임계값 설정 및 이상치 여부 판단\n",
        "임계값 = 2\n",
        "df['이상치여부'] = df['점수_Z'].abs() > 임계값\n",
        "df\n",
        "\n",
        "### 이상치 데이터 출력\n",
        "df[df['이상치여부']]\n",
        "\n",
        "### 이상치 비율 출력\n",
        "df['이상치여부'].mean() * 100\n"
      ],
      "metadata": {
        "id": "oPs_WaNrZD-4",
        "outputId": "788e81fc-fd68-4174-ddfb-de33bbc5148a",
        "colab": {
          "base_uri": "https://localhost:8080/"
        }
      },
      "execution_count": 8,
      "outputs": [
        {
          "output_type": "execute_result",
          "data": {
            "text/plain": [
              "np.float64(12.5)"
            ]
          },
          "metadata": {},
          "execution_count": 8
        }
      ]
    },
    {
      "cell_type": "markdown",
      "source": [
        "### 7-5 평균값 및 선형보간법을 통한 결측치 처리"
      ],
      "metadata": {
        "id": "m8IQakJSH1bY"
      }
    },
    {
      "cell_type": "code",
      "source": [
        "import pandas as pd\n",
        "import numpy as np\n",
        "\n",
        "file_path = \"raw_large_shopping_customer.csv\"\n",
        "df = pd.read_csv(file_path)\n",
        "print(df.isnull().sum()) #결측치의 갯수를 확인할 수 있는\n",
        "\n",
        "#한 행에 결측치가 4개 이상의 값이 채워져있는것만 남기도록\n",
        "df_cleaned = df.dropna(thresh=df.shape[1] - 1)\n",
        "\n",
        "### 나이, 소득에 결측치가 있는경우 평균값 대치 및 결과 출력\n",
        "df_cleaned.loc[:, ['나이', '소득']] = df_cleaned[['나이', '소득']].fillna(df_cleaned[['나이', '소득']].mean())\n",
        "\n",
        "\n",
        "### 지출, 평균구매횟수 선형보간법 적용\n",
        "df_cleaned.loc[:, [ '지출', '평균구매횟수']] = df_cleaned[['지출', '평균구매횟수']].interpolate(method='linear')\n",
        "\n",
        "df_cleaned.to_csv(\"cleaned_large_shopping_customer.csv\", index=False, encoding=\"utf-8-sig\")"
      ],
      "metadata": {
        "id": "4j-um7-UZHbs",
        "outputId": "fe1cce54-dd36-479a-9db8-f0d83ff2878b",
        "colab": {
          "base_uri": "https://localhost:8080/"
        }
      },
      "execution_count": 9,
      "outputs": [
        {
          "output_type": "stream",
          "name": "stdout",
          "text": [
            "ID         0\n",
            "나이        50\n",
            "소득        50\n",
            "지출        50\n",
            "평균구매횟수    50\n",
            "dtype: int64\n"
          ]
        }
      ]
    },
    {
      "cell_type": "markdown",
      "source": [
        "### 7-6 DataFrame 값 변경"
      ],
      "metadata": {
        "id": "EYN-PCmnH2gW"
      }
    },
    {
      "cell_type": "code",
      "source": [
        "import pandas as pd\n",
        "\n",
        "data = {'age': [25, 30, None, 22, 35],\n",
        "        'city': ['Seoul', None, 'Incheon', 'Seoul', 'Daejeon'],\n",
        "        'score': [90, 85, None, 80, 92]}\n",
        "df = pd.DataFrame(data)\n",
        "\n",
        "### replace를 이용한 Seoul -> 서울\n",
        "df['city'] = df['city'].replace('seoul', '서울')\n",
        "\n",
        "####형식 맞추기\n",
        "\n",
        "### replace를 이용한 None -> 미정, Incheon -> 인천\n",
        "df['city'] = df['city'].replace({None:'미정','Incheon':'인천광역시'})\n",
        "\n",
        "### map을 이용한 값 변경\n",
        "df = pd.DataFrame(data)\n",
        "city_map = {'Seoul': '서울특별시', None: '미정', 'Incheon':'인천광역시', 'Daejeon':'대전광역시'}\n",
        "df['city']=df['city'].map(city_map)\n",
        "df['age_str']=df['age'].map(lambda x : f\"{x}살\" if pd.notna(x) else \"알수없음\")\n",
        "#map 함수는 특정 칼럼에 있는 값을 변경하기에 용이\n",
        "\n",
        "### apply 함수를 이용한 값 변경\n",
        "df['age_apply'] = df['age'].apply(lambda x : x*2 if pd.notna(x) else None)\n",
        "print(\"#napply 함수를 이용한 값 변경:\\n\", df['age_apply'])\n",
        "\n",
        "#특정 행에 있는 값을 모두 변경하기에는 apply가 용이\n",
        "\n",
        "### apply 함수를 이용한 행단위 값 변경\n",
        "def age_plus_score(row) :\n",
        "    age = row['age'] if pd.notna(row['age']) else 0\n",
        "    score = row['score'] if pd.notna(row['score']) else 0\n",
        "    return age + score\n",
        "df['age_plus_score'] = df.apply(age_plus_score, axis=1) #행단위를 위해 axis=1 작성\n",
        "print(\"\\napply함수를 이용한 행단위 값 변경:\\n\", df['age_plus_score'])\n",
        "\n",
        "### loc 인덱스를 이용한 값 변경\n",
        "df.loc[df['score']<90, 'score'] = 90\n",
        "print(\"\\n점수가 90점 미만인 사람 90점으로 변경:\\n\", df)\n",
        "### where 함수를 이용한 값 변경\n",
        "df['age_where'] = df['age'].where(df['age']>=30, other = 0)\n",
        "print(\"\\nage가 30이상인 값만 유지하고 나머지를 0으로 변경\\n\", df['age'])\n",
        "df"
      ],
      "metadata": {
        "id": "hV1s9QVNZMhI",
        "outputId": "15660d7a-5b13-48f2-bfae-efb5def44a76",
        "colab": {
          "base_uri": "https://localhost:8080/",
          "height": 775
        }
      },
      "execution_count": 10,
      "outputs": [
        {
          "output_type": "stream",
          "name": "stdout",
          "text": [
            "#napply 함수를 이용한 값 변경:\n",
            " 0    50.0\n",
            "1    60.0\n",
            "2     NaN\n",
            "3    44.0\n",
            "4    70.0\n",
            "Name: age_apply, dtype: float64\n",
            "\n",
            "apply함수를 이용한 행단위 값 변경:\n",
            " 0    115.0\n",
            "1    115.0\n",
            "2      0.0\n",
            "3    102.0\n",
            "4    127.0\n",
            "Name: age_plus_score, dtype: float64\n",
            "\n",
            "점수가 90점 미만인 사람 90점으로 변경:\n",
            "     age   city  score age_str  age_apply  age_plus_score\n",
            "0  25.0  서울특별시   90.0   25.0살       50.0           115.0\n",
            "1  30.0     미정   90.0   30.0살       60.0           115.0\n",
            "2   NaN  인천광역시    NaN    알수없음        NaN             0.0\n",
            "3  22.0  서울특별시   90.0   22.0살       44.0           102.0\n",
            "4  35.0  대전광역시   92.0   35.0살       70.0           127.0\n",
            "\n",
            "age가 30이상인 값만 유지하고 나머지를 0으로 변경\n",
            " 0    25.0\n",
            "1    30.0\n",
            "2     NaN\n",
            "3    22.0\n",
            "4    35.0\n",
            "Name: age, dtype: float64\n"
          ]
        },
        {
          "output_type": "execute_result",
          "data": {
            "text/plain": [
              "    age   city  score age_str  age_apply  age_plus_score  age_where\n",
              "0  25.0  서울특별시   90.0   25.0살       50.0           115.0        0.0\n",
              "1  30.0     미정   90.0   30.0살       60.0           115.0       30.0\n",
              "2   NaN  인천광역시    NaN    알수없음        NaN             0.0        0.0\n",
              "3  22.0  서울특별시   90.0   22.0살       44.0           102.0        0.0\n",
              "4  35.0  대전광역시   92.0   35.0살       70.0           127.0       35.0"
            ],
            "text/html": [
              "\n",
              "  <div id=\"df-63950163-0a0c-4ddc-ac19-a4fe0d3650e0\" class=\"colab-df-container\">\n",
              "    <div>\n",
              "<style scoped>\n",
              "    .dataframe tbody tr th:only-of-type {\n",
              "        vertical-align: middle;\n",
              "    }\n",
              "\n",
              "    .dataframe tbody tr th {\n",
              "        vertical-align: top;\n",
              "    }\n",
              "\n",
              "    .dataframe thead th {\n",
              "        text-align: right;\n",
              "    }\n",
              "</style>\n",
              "<table border=\"1\" class=\"dataframe\">\n",
              "  <thead>\n",
              "    <tr style=\"text-align: right;\">\n",
              "      <th></th>\n",
              "      <th>age</th>\n",
              "      <th>city</th>\n",
              "      <th>score</th>\n",
              "      <th>age_str</th>\n",
              "      <th>age_apply</th>\n",
              "      <th>age_plus_score</th>\n",
              "      <th>age_where</th>\n",
              "    </tr>\n",
              "  </thead>\n",
              "  <tbody>\n",
              "    <tr>\n",
              "      <th>0</th>\n",
              "      <td>25.0</td>\n",
              "      <td>서울특별시</td>\n",
              "      <td>90.0</td>\n",
              "      <td>25.0살</td>\n",
              "      <td>50.0</td>\n",
              "      <td>115.0</td>\n",
              "      <td>0.0</td>\n",
              "    </tr>\n",
              "    <tr>\n",
              "      <th>1</th>\n",
              "      <td>30.0</td>\n",
              "      <td>미정</td>\n",
              "      <td>90.0</td>\n",
              "      <td>30.0살</td>\n",
              "      <td>60.0</td>\n",
              "      <td>115.0</td>\n",
              "      <td>30.0</td>\n",
              "    </tr>\n",
              "    <tr>\n",
              "      <th>2</th>\n",
              "      <td>NaN</td>\n",
              "      <td>인천광역시</td>\n",
              "      <td>NaN</td>\n",
              "      <td>알수없음</td>\n",
              "      <td>NaN</td>\n",
              "      <td>0.0</td>\n",
              "      <td>0.0</td>\n",
              "    </tr>\n",
              "    <tr>\n",
              "      <th>3</th>\n",
              "      <td>22.0</td>\n",
              "      <td>서울특별시</td>\n",
              "      <td>90.0</td>\n",
              "      <td>22.0살</td>\n",
              "      <td>44.0</td>\n",
              "      <td>102.0</td>\n",
              "      <td>0.0</td>\n",
              "    </tr>\n",
              "    <tr>\n",
              "      <th>4</th>\n",
              "      <td>35.0</td>\n",
              "      <td>대전광역시</td>\n",
              "      <td>92.0</td>\n",
              "      <td>35.0살</td>\n",
              "      <td>70.0</td>\n",
              "      <td>127.0</td>\n",
              "      <td>35.0</td>\n",
              "    </tr>\n",
              "  </tbody>\n",
              "</table>\n",
              "</div>\n",
              "    <div class=\"colab-df-buttons\">\n",
              "\n",
              "  <div class=\"colab-df-container\">\n",
              "    <button class=\"colab-df-convert\" onclick=\"convertToInteractive('df-63950163-0a0c-4ddc-ac19-a4fe0d3650e0')\"\n",
              "            title=\"Convert this dataframe to an interactive table.\"\n",
              "            style=\"display:none;\">\n",
              "\n",
              "  <svg xmlns=\"http://www.w3.org/2000/svg\" height=\"24px\" viewBox=\"0 -960 960 960\">\n",
              "    <path d=\"M120-120v-720h720v720H120Zm60-500h600v-160H180v160Zm220 220h160v-160H400v160Zm0 220h160v-160H400v160ZM180-400h160v-160H180v160Zm440 0h160v-160H620v160ZM180-180h160v-160H180v160Zm440 0h160v-160H620v160Z\"/>\n",
              "  </svg>\n",
              "    </button>\n",
              "\n",
              "  <style>\n",
              "    .colab-df-container {\n",
              "      display:flex;\n",
              "      gap: 12px;\n",
              "    }\n",
              "\n",
              "    .colab-df-convert {\n",
              "      background-color: #E8F0FE;\n",
              "      border: none;\n",
              "      border-radius: 50%;\n",
              "      cursor: pointer;\n",
              "      display: none;\n",
              "      fill: #1967D2;\n",
              "      height: 32px;\n",
              "      padding: 0 0 0 0;\n",
              "      width: 32px;\n",
              "    }\n",
              "\n",
              "    .colab-df-convert:hover {\n",
              "      background-color: #E2EBFA;\n",
              "      box-shadow: 0px 1px 2px rgba(60, 64, 67, 0.3), 0px 1px 3px 1px rgba(60, 64, 67, 0.15);\n",
              "      fill: #174EA6;\n",
              "    }\n",
              "\n",
              "    .colab-df-buttons div {\n",
              "      margin-bottom: 4px;\n",
              "    }\n",
              "\n",
              "    [theme=dark] .colab-df-convert {\n",
              "      background-color: #3B4455;\n",
              "      fill: #D2E3FC;\n",
              "    }\n",
              "\n",
              "    [theme=dark] .colab-df-convert:hover {\n",
              "      background-color: #434B5C;\n",
              "      box-shadow: 0px 1px 3px 1px rgba(0, 0, 0, 0.15);\n",
              "      filter: drop-shadow(0px 1px 2px rgba(0, 0, 0, 0.3));\n",
              "      fill: #FFFFFF;\n",
              "    }\n",
              "  </style>\n",
              "\n",
              "    <script>\n",
              "      const buttonEl =\n",
              "        document.querySelector('#df-63950163-0a0c-4ddc-ac19-a4fe0d3650e0 button.colab-df-convert');\n",
              "      buttonEl.style.display =\n",
              "        google.colab.kernel.accessAllowed ? 'block' : 'none';\n",
              "\n",
              "      async function convertToInteractive(key) {\n",
              "        const element = document.querySelector('#df-63950163-0a0c-4ddc-ac19-a4fe0d3650e0');\n",
              "        const dataTable =\n",
              "          await google.colab.kernel.invokeFunction('convertToInteractive',\n",
              "                                                    [key], {});\n",
              "        if (!dataTable) return;\n",
              "\n",
              "        const docLinkHtml = 'Like what you see? Visit the ' +\n",
              "          '<a target=\"_blank\" href=https://colab.research.google.com/notebooks/data_table.ipynb>data table notebook</a>'\n",
              "          + ' to learn more about interactive tables.';\n",
              "        element.innerHTML = '';\n",
              "        dataTable['output_type'] = 'display_data';\n",
              "        await google.colab.output.renderOutput(dataTable, element);\n",
              "        const docLink = document.createElement('div');\n",
              "        docLink.innerHTML = docLinkHtml;\n",
              "        element.appendChild(docLink);\n",
              "      }\n",
              "    </script>\n",
              "  </div>\n",
              "\n",
              "\n",
              "    <div id=\"df-17951d3d-d8d2-4d81-85c2-f81b9016e1e1\">\n",
              "      <button class=\"colab-df-quickchart\" onclick=\"quickchart('df-17951d3d-d8d2-4d81-85c2-f81b9016e1e1')\"\n",
              "                title=\"Suggest charts\"\n",
              "                style=\"display:none;\">\n",
              "\n",
              "<svg xmlns=\"http://www.w3.org/2000/svg\" height=\"24px\"viewBox=\"0 0 24 24\"\n",
              "     width=\"24px\">\n",
              "    <g>\n",
              "        <path d=\"M19 3H5c-1.1 0-2 .9-2 2v14c0 1.1.9 2 2 2h14c1.1 0 2-.9 2-2V5c0-1.1-.9-2-2-2zM9 17H7v-7h2v7zm4 0h-2V7h2v10zm4 0h-2v-4h2v4z\"/>\n",
              "    </g>\n",
              "</svg>\n",
              "      </button>\n",
              "\n",
              "<style>\n",
              "  .colab-df-quickchart {\n",
              "      --bg-color: #E8F0FE;\n",
              "      --fill-color: #1967D2;\n",
              "      --hover-bg-color: #E2EBFA;\n",
              "      --hover-fill-color: #174EA6;\n",
              "      --disabled-fill-color: #AAA;\n",
              "      --disabled-bg-color: #DDD;\n",
              "  }\n",
              "\n",
              "  [theme=dark] .colab-df-quickchart {\n",
              "      --bg-color: #3B4455;\n",
              "      --fill-color: #D2E3FC;\n",
              "      --hover-bg-color: #434B5C;\n",
              "      --hover-fill-color: #FFFFFF;\n",
              "      --disabled-bg-color: #3B4455;\n",
              "      --disabled-fill-color: #666;\n",
              "  }\n",
              "\n",
              "  .colab-df-quickchart {\n",
              "    background-color: var(--bg-color);\n",
              "    border: none;\n",
              "    border-radius: 50%;\n",
              "    cursor: pointer;\n",
              "    display: none;\n",
              "    fill: var(--fill-color);\n",
              "    height: 32px;\n",
              "    padding: 0;\n",
              "    width: 32px;\n",
              "  }\n",
              "\n",
              "  .colab-df-quickchart:hover {\n",
              "    background-color: var(--hover-bg-color);\n",
              "    box-shadow: 0 1px 2px rgba(60, 64, 67, 0.3), 0 1px 3px 1px rgba(60, 64, 67, 0.15);\n",
              "    fill: var(--button-hover-fill-color);\n",
              "  }\n",
              "\n",
              "  .colab-df-quickchart-complete:disabled,\n",
              "  .colab-df-quickchart-complete:disabled:hover {\n",
              "    background-color: var(--disabled-bg-color);\n",
              "    fill: var(--disabled-fill-color);\n",
              "    box-shadow: none;\n",
              "  }\n",
              "\n",
              "  .colab-df-spinner {\n",
              "    border: 2px solid var(--fill-color);\n",
              "    border-color: transparent;\n",
              "    border-bottom-color: var(--fill-color);\n",
              "    animation:\n",
              "      spin 1s steps(1) infinite;\n",
              "  }\n",
              "\n",
              "  @keyframes spin {\n",
              "    0% {\n",
              "      border-color: transparent;\n",
              "      border-bottom-color: var(--fill-color);\n",
              "      border-left-color: var(--fill-color);\n",
              "    }\n",
              "    20% {\n",
              "      border-color: transparent;\n",
              "      border-left-color: var(--fill-color);\n",
              "      border-top-color: var(--fill-color);\n",
              "    }\n",
              "    30% {\n",
              "      border-color: transparent;\n",
              "      border-left-color: var(--fill-color);\n",
              "      border-top-color: var(--fill-color);\n",
              "      border-right-color: var(--fill-color);\n",
              "    }\n",
              "    40% {\n",
              "      border-color: transparent;\n",
              "      border-right-color: var(--fill-color);\n",
              "      border-top-color: var(--fill-color);\n",
              "    }\n",
              "    60% {\n",
              "      border-color: transparent;\n",
              "      border-right-color: var(--fill-color);\n",
              "    }\n",
              "    80% {\n",
              "      border-color: transparent;\n",
              "      border-right-color: var(--fill-color);\n",
              "      border-bottom-color: var(--fill-color);\n",
              "    }\n",
              "    90% {\n",
              "      border-color: transparent;\n",
              "      border-bottom-color: var(--fill-color);\n",
              "    }\n",
              "  }\n",
              "</style>\n",
              "\n",
              "      <script>\n",
              "        async function quickchart(key) {\n",
              "          const quickchartButtonEl =\n",
              "            document.querySelector('#' + key + ' button');\n",
              "          quickchartButtonEl.disabled = true;  // To prevent multiple clicks.\n",
              "          quickchartButtonEl.classList.add('colab-df-spinner');\n",
              "          try {\n",
              "            const charts = await google.colab.kernel.invokeFunction(\n",
              "                'suggestCharts', [key], {});\n",
              "          } catch (error) {\n",
              "            console.error('Error during call to suggestCharts:', error);\n",
              "          }\n",
              "          quickchartButtonEl.classList.remove('colab-df-spinner');\n",
              "          quickchartButtonEl.classList.add('colab-df-quickchart-complete');\n",
              "        }\n",
              "        (() => {\n",
              "          let quickchartButtonEl =\n",
              "            document.querySelector('#df-17951d3d-d8d2-4d81-85c2-f81b9016e1e1 button');\n",
              "          quickchartButtonEl.style.display =\n",
              "            google.colab.kernel.accessAllowed ? 'block' : 'none';\n",
              "        })();\n",
              "      </script>\n",
              "    </div>\n",
              "\n",
              "  <div id=\"id_68db78f6-d912-4a44-811c-548781181608\">\n",
              "    <style>\n",
              "      .colab-df-generate {\n",
              "        background-color: #E8F0FE;\n",
              "        border: none;\n",
              "        border-radius: 50%;\n",
              "        cursor: pointer;\n",
              "        display: none;\n",
              "        fill: #1967D2;\n",
              "        height: 32px;\n",
              "        padding: 0 0 0 0;\n",
              "        width: 32px;\n",
              "      }\n",
              "\n",
              "      .colab-df-generate:hover {\n",
              "        background-color: #E2EBFA;\n",
              "        box-shadow: 0px 1px 2px rgba(60, 64, 67, 0.3), 0px 1px 3px 1px rgba(60, 64, 67, 0.15);\n",
              "        fill: #174EA6;\n",
              "      }\n",
              "\n",
              "      [theme=dark] .colab-df-generate {\n",
              "        background-color: #3B4455;\n",
              "        fill: #D2E3FC;\n",
              "      }\n",
              "\n",
              "      [theme=dark] .colab-df-generate:hover {\n",
              "        background-color: #434B5C;\n",
              "        box-shadow: 0px 1px 3px 1px rgba(0, 0, 0, 0.15);\n",
              "        filter: drop-shadow(0px 1px 2px rgba(0, 0, 0, 0.3));\n",
              "        fill: #FFFFFF;\n",
              "      }\n",
              "    </style>\n",
              "    <button class=\"colab-df-generate\" onclick=\"generateWithVariable('df')\"\n",
              "            title=\"Generate code using this dataframe.\"\n",
              "            style=\"display:none;\">\n",
              "\n",
              "  <svg xmlns=\"http://www.w3.org/2000/svg\" height=\"24px\"viewBox=\"0 0 24 24\"\n",
              "       width=\"24px\">\n",
              "    <path d=\"M7,19H8.4L18.45,9,17,7.55,7,17.6ZM5,21V16.75L18.45,3.32a2,2,0,0,1,2.83,0l1.4,1.43a1.91,1.91,0,0,1,.58,1.4,1.91,1.91,0,0,1-.58,1.4L9.25,21ZM18.45,9,17,7.55Zm-12,3A5.31,5.31,0,0,0,4.9,8.1,5.31,5.31,0,0,0,1,6.5,5.31,5.31,0,0,0,4.9,4.9,5.31,5.31,0,0,0,6.5,1,5.31,5.31,0,0,0,8.1,4.9,5.31,5.31,0,0,0,12,6.5,5.46,5.46,0,0,0,6.5,12Z\"/>\n",
              "  </svg>\n",
              "    </button>\n",
              "    <script>\n",
              "      (() => {\n",
              "      const buttonEl =\n",
              "        document.querySelector('#id_68db78f6-d912-4a44-811c-548781181608 button.colab-df-generate');\n",
              "      buttonEl.style.display =\n",
              "        google.colab.kernel.accessAllowed ? 'block' : 'none';\n",
              "\n",
              "      buttonEl.onclick = () => {\n",
              "        google.colab.notebook.generateWithVariable('df');\n",
              "      }\n",
              "      })();\n",
              "    </script>\n",
              "  </div>\n",
              "\n",
              "    </div>\n",
              "  </div>\n"
            ],
            "application/vnd.google.colaboratory.intrinsic+json": {
              "type": "dataframe",
              "variable_name": "df",
              "summary": "{\n  \"name\": \"df\",\n  \"rows\": 5,\n  \"fields\": [\n    {\n      \"column\": \"age\",\n      \"properties\": {\n        \"dtype\": \"number\",\n        \"std\": 5.715476066494082,\n        \"min\": 22.0,\n        \"max\": 35.0,\n        \"num_unique_values\": 4,\n        \"samples\": [\n          30.0,\n          35.0,\n          25.0\n        ],\n        \"semantic_type\": \"\",\n        \"description\": \"\"\n      }\n    },\n    {\n      \"column\": \"city\",\n      \"properties\": {\n        \"dtype\": \"string\",\n        \"num_unique_values\": 4,\n        \"samples\": [\n          \"\\ubbf8\\uc815\",\n          \"\\ub300\\uc804\\uad11\\uc5ed\\uc2dc\",\n          \"\\uc11c\\uc6b8\\ud2b9\\ubcc4\\uc2dc\"\n        ],\n        \"semantic_type\": \"\",\n        \"description\": \"\"\n      }\n    },\n    {\n      \"column\": \"score\",\n      \"properties\": {\n        \"dtype\": \"number\",\n        \"std\": 1.0,\n        \"min\": 90.0,\n        \"max\": 92.0,\n        \"num_unique_values\": 2,\n        \"samples\": [\n          92.0,\n          90.0\n        ],\n        \"semantic_type\": \"\",\n        \"description\": \"\"\n      }\n    },\n    {\n      \"column\": \"age_str\",\n      \"properties\": {\n        \"dtype\": \"string\",\n        \"num_unique_values\": 5,\n        \"samples\": [\n          \"30.0\\uc0b4\",\n          \"35.0\\uc0b4\"\n        ],\n        \"semantic_type\": \"\",\n        \"description\": \"\"\n      }\n    },\n    {\n      \"column\": \"age_apply\",\n      \"properties\": {\n        \"dtype\": \"number\",\n        \"std\": 11.430952132988164,\n        \"min\": 44.0,\n        \"max\": 70.0,\n        \"num_unique_values\": 4,\n        \"samples\": [\n          60.0,\n          70.0\n        ],\n        \"semantic_type\": \"\",\n        \"description\": \"\"\n      }\n    },\n    {\n      \"column\": \"age_plus_score\",\n      \"properties\": {\n        \"dtype\": \"number\",\n        \"std\": 52.07398582785843,\n        \"min\": 0.0,\n        \"max\": 127.0,\n        \"num_unique_values\": 4,\n        \"samples\": [\n          0.0,\n          127.0\n        ],\n        \"semantic_type\": \"\",\n        \"description\": \"\"\n      }\n    },\n    {\n      \"column\": \"age_where\",\n      \"properties\": {\n        \"dtype\": \"number\",\n        \"std\": 17.88854381999832,\n        \"min\": 0.0,\n        \"max\": 35.0,\n        \"num_unique_values\": 3,\n        \"samples\": [\n          0.0,\n          30.0\n        ],\n        \"semantic_type\": \"\",\n        \"description\": \"\"\n      }\n    }\n  ]\n}"
            }
          },
          "metadata": {},
          "execution_count": 10
        }
      ]
    },
    {
      "cell_type": "markdown",
      "source": [
        "### 7-7 날짜 데이터 타입 다루기\n"
      ],
      "metadata": {
        "id": "z2yAF4AiIAPq"
      }
    },
    {
      "cell_type": "code",
      "source": [
        "date_str = ['2025-07-01', '2025-08-01', '2025-09-01']\n",
        "df_date = pd.DataFrame({'date_str':date_str})\n",
        "\n",
        "### datetime 타입 변환\n",
        "df_date['date'] = pd.to_datetime(df_date['date_str'])\n",
        "df_date.info()\n",
        "\n",
        "### 날짜 데이터 분리\n",
        "print(df_date['date'].dt.year)\n",
        "print(df_date['date'].dt.month)\n",
        "print(df_date['date'].dt.day)\n",
        "print(df_date['date'].dt.day_name())\n",
        "\n",
        "### 날짜 데이터 포멧 변경\n",
        "df_date['date_formatted']=df_date['date'].dt.strftime('%Y/%m/%d')\n",
        "df_date"
      ],
      "metadata": {
        "id": "xDLixmACZ43a",
        "colab": {
          "base_uri": "https://localhost:8080/",
          "height": 602
        },
        "outputId": "1d1b3329-6984-4d96-a07e-3cd61800ab05"
      },
      "execution_count": 11,
      "outputs": [
        {
          "output_type": "stream",
          "name": "stdout",
          "text": [
            "<class 'pandas.core.frame.DataFrame'>\n",
            "RangeIndex: 3 entries, 0 to 2\n",
            "Data columns (total 2 columns):\n",
            " #   Column    Non-Null Count  Dtype         \n",
            "---  ------    --------------  -----         \n",
            " 0   date_str  3 non-null      object        \n",
            " 1   date      3 non-null      datetime64[ns]\n",
            "dtypes: datetime64[ns](1), object(1)\n",
            "memory usage: 180.0+ bytes\n",
            "0    2025\n",
            "1    2025\n",
            "2    2025\n",
            "Name: date, dtype: int32\n",
            "0    7\n",
            "1    8\n",
            "2    9\n",
            "Name: date, dtype: int32\n",
            "0    1\n",
            "1    1\n",
            "2    1\n",
            "Name: date, dtype: int32\n",
            "0    Tuesday\n",
            "1     Friday\n",
            "2     Monday\n",
            "Name: date, dtype: object\n"
          ]
        },
        {
          "output_type": "execute_result",
          "data": {
            "text/plain": [
              "     date_str       date date_formatted\n",
              "0  2025-07-01 2025-07-01     2025/07/01\n",
              "1  2025-08-01 2025-08-01     2025/08/01\n",
              "2  2025-09-01 2025-09-01     2025/09/01"
            ],
            "text/html": [
              "\n",
              "  <div id=\"df-84bf0dba-19f0-47a5-9254-101293170104\" class=\"colab-df-container\">\n",
              "    <div>\n",
              "<style scoped>\n",
              "    .dataframe tbody tr th:only-of-type {\n",
              "        vertical-align: middle;\n",
              "    }\n",
              "\n",
              "    .dataframe tbody tr th {\n",
              "        vertical-align: top;\n",
              "    }\n",
              "\n",
              "    .dataframe thead th {\n",
              "        text-align: right;\n",
              "    }\n",
              "</style>\n",
              "<table border=\"1\" class=\"dataframe\">\n",
              "  <thead>\n",
              "    <tr style=\"text-align: right;\">\n",
              "      <th></th>\n",
              "      <th>date_str</th>\n",
              "      <th>date</th>\n",
              "      <th>date_formatted</th>\n",
              "    </tr>\n",
              "  </thead>\n",
              "  <tbody>\n",
              "    <tr>\n",
              "      <th>0</th>\n",
              "      <td>2025-07-01</td>\n",
              "      <td>2025-07-01</td>\n",
              "      <td>2025/07/01</td>\n",
              "    </tr>\n",
              "    <tr>\n",
              "      <th>1</th>\n",
              "      <td>2025-08-01</td>\n",
              "      <td>2025-08-01</td>\n",
              "      <td>2025/08/01</td>\n",
              "    </tr>\n",
              "    <tr>\n",
              "      <th>2</th>\n",
              "      <td>2025-09-01</td>\n",
              "      <td>2025-09-01</td>\n",
              "      <td>2025/09/01</td>\n",
              "    </tr>\n",
              "  </tbody>\n",
              "</table>\n",
              "</div>\n",
              "    <div class=\"colab-df-buttons\">\n",
              "\n",
              "  <div class=\"colab-df-container\">\n",
              "    <button class=\"colab-df-convert\" onclick=\"convertToInteractive('df-84bf0dba-19f0-47a5-9254-101293170104')\"\n",
              "            title=\"Convert this dataframe to an interactive table.\"\n",
              "            style=\"display:none;\">\n",
              "\n",
              "  <svg xmlns=\"http://www.w3.org/2000/svg\" height=\"24px\" viewBox=\"0 -960 960 960\">\n",
              "    <path d=\"M120-120v-720h720v720H120Zm60-500h600v-160H180v160Zm220 220h160v-160H400v160Zm0 220h160v-160H400v160ZM180-400h160v-160H180v160Zm440 0h160v-160H620v160ZM180-180h160v-160H180v160Zm440 0h160v-160H620v160Z\"/>\n",
              "  </svg>\n",
              "    </button>\n",
              "\n",
              "  <style>\n",
              "    .colab-df-container {\n",
              "      display:flex;\n",
              "      gap: 12px;\n",
              "    }\n",
              "\n",
              "    .colab-df-convert {\n",
              "      background-color: #E8F0FE;\n",
              "      border: none;\n",
              "      border-radius: 50%;\n",
              "      cursor: pointer;\n",
              "      display: none;\n",
              "      fill: #1967D2;\n",
              "      height: 32px;\n",
              "      padding: 0 0 0 0;\n",
              "      width: 32px;\n",
              "    }\n",
              "\n",
              "    .colab-df-convert:hover {\n",
              "      background-color: #E2EBFA;\n",
              "      box-shadow: 0px 1px 2px rgba(60, 64, 67, 0.3), 0px 1px 3px 1px rgba(60, 64, 67, 0.15);\n",
              "      fill: #174EA6;\n",
              "    }\n",
              "\n",
              "    .colab-df-buttons div {\n",
              "      margin-bottom: 4px;\n",
              "    }\n",
              "\n",
              "    [theme=dark] .colab-df-convert {\n",
              "      background-color: #3B4455;\n",
              "      fill: #D2E3FC;\n",
              "    }\n",
              "\n",
              "    [theme=dark] .colab-df-convert:hover {\n",
              "      background-color: #434B5C;\n",
              "      box-shadow: 0px 1px 3px 1px rgba(0, 0, 0, 0.15);\n",
              "      filter: drop-shadow(0px 1px 2px rgba(0, 0, 0, 0.3));\n",
              "      fill: #FFFFFF;\n",
              "    }\n",
              "  </style>\n",
              "\n",
              "    <script>\n",
              "      const buttonEl =\n",
              "        document.querySelector('#df-84bf0dba-19f0-47a5-9254-101293170104 button.colab-df-convert');\n",
              "      buttonEl.style.display =\n",
              "        google.colab.kernel.accessAllowed ? 'block' : 'none';\n",
              "\n",
              "      async function convertToInteractive(key) {\n",
              "        const element = document.querySelector('#df-84bf0dba-19f0-47a5-9254-101293170104');\n",
              "        const dataTable =\n",
              "          await google.colab.kernel.invokeFunction('convertToInteractive',\n",
              "                                                    [key], {});\n",
              "        if (!dataTable) return;\n",
              "\n",
              "        const docLinkHtml = 'Like what you see? Visit the ' +\n",
              "          '<a target=\"_blank\" href=https://colab.research.google.com/notebooks/data_table.ipynb>data table notebook</a>'\n",
              "          + ' to learn more about interactive tables.';\n",
              "        element.innerHTML = '';\n",
              "        dataTable['output_type'] = 'display_data';\n",
              "        await google.colab.output.renderOutput(dataTable, element);\n",
              "        const docLink = document.createElement('div');\n",
              "        docLink.innerHTML = docLinkHtml;\n",
              "        element.appendChild(docLink);\n",
              "      }\n",
              "    </script>\n",
              "  </div>\n",
              "\n",
              "\n",
              "    <div id=\"df-8aa3be59-1b34-41cd-bb1f-b2fefdbdbf80\">\n",
              "      <button class=\"colab-df-quickchart\" onclick=\"quickchart('df-8aa3be59-1b34-41cd-bb1f-b2fefdbdbf80')\"\n",
              "                title=\"Suggest charts\"\n",
              "                style=\"display:none;\">\n",
              "\n",
              "<svg xmlns=\"http://www.w3.org/2000/svg\" height=\"24px\"viewBox=\"0 0 24 24\"\n",
              "     width=\"24px\">\n",
              "    <g>\n",
              "        <path d=\"M19 3H5c-1.1 0-2 .9-2 2v14c0 1.1.9 2 2 2h14c1.1 0 2-.9 2-2V5c0-1.1-.9-2-2-2zM9 17H7v-7h2v7zm4 0h-2V7h2v10zm4 0h-2v-4h2v4z\"/>\n",
              "    </g>\n",
              "</svg>\n",
              "      </button>\n",
              "\n",
              "<style>\n",
              "  .colab-df-quickchart {\n",
              "      --bg-color: #E8F0FE;\n",
              "      --fill-color: #1967D2;\n",
              "      --hover-bg-color: #E2EBFA;\n",
              "      --hover-fill-color: #174EA6;\n",
              "      --disabled-fill-color: #AAA;\n",
              "      --disabled-bg-color: #DDD;\n",
              "  }\n",
              "\n",
              "  [theme=dark] .colab-df-quickchart {\n",
              "      --bg-color: #3B4455;\n",
              "      --fill-color: #D2E3FC;\n",
              "      --hover-bg-color: #434B5C;\n",
              "      --hover-fill-color: #FFFFFF;\n",
              "      --disabled-bg-color: #3B4455;\n",
              "      --disabled-fill-color: #666;\n",
              "  }\n",
              "\n",
              "  .colab-df-quickchart {\n",
              "    background-color: var(--bg-color);\n",
              "    border: none;\n",
              "    border-radius: 50%;\n",
              "    cursor: pointer;\n",
              "    display: none;\n",
              "    fill: var(--fill-color);\n",
              "    height: 32px;\n",
              "    padding: 0;\n",
              "    width: 32px;\n",
              "  }\n",
              "\n",
              "  .colab-df-quickchart:hover {\n",
              "    background-color: var(--hover-bg-color);\n",
              "    box-shadow: 0 1px 2px rgba(60, 64, 67, 0.3), 0 1px 3px 1px rgba(60, 64, 67, 0.15);\n",
              "    fill: var(--button-hover-fill-color);\n",
              "  }\n",
              "\n",
              "  .colab-df-quickchart-complete:disabled,\n",
              "  .colab-df-quickchart-complete:disabled:hover {\n",
              "    background-color: var(--disabled-bg-color);\n",
              "    fill: var(--disabled-fill-color);\n",
              "    box-shadow: none;\n",
              "  }\n",
              "\n",
              "  .colab-df-spinner {\n",
              "    border: 2px solid var(--fill-color);\n",
              "    border-color: transparent;\n",
              "    border-bottom-color: var(--fill-color);\n",
              "    animation:\n",
              "      spin 1s steps(1) infinite;\n",
              "  }\n",
              "\n",
              "  @keyframes spin {\n",
              "    0% {\n",
              "      border-color: transparent;\n",
              "      border-bottom-color: var(--fill-color);\n",
              "      border-left-color: var(--fill-color);\n",
              "    }\n",
              "    20% {\n",
              "      border-color: transparent;\n",
              "      border-left-color: var(--fill-color);\n",
              "      border-top-color: var(--fill-color);\n",
              "    }\n",
              "    30% {\n",
              "      border-color: transparent;\n",
              "      border-left-color: var(--fill-color);\n",
              "      border-top-color: var(--fill-color);\n",
              "      border-right-color: var(--fill-color);\n",
              "    }\n",
              "    40% {\n",
              "      border-color: transparent;\n",
              "      border-right-color: var(--fill-color);\n",
              "      border-top-color: var(--fill-color);\n",
              "    }\n",
              "    60% {\n",
              "      border-color: transparent;\n",
              "      border-right-color: var(--fill-color);\n",
              "    }\n",
              "    80% {\n",
              "      border-color: transparent;\n",
              "      border-right-color: var(--fill-color);\n",
              "      border-bottom-color: var(--fill-color);\n",
              "    }\n",
              "    90% {\n",
              "      border-color: transparent;\n",
              "      border-bottom-color: var(--fill-color);\n",
              "    }\n",
              "  }\n",
              "</style>\n",
              "\n",
              "      <script>\n",
              "        async function quickchart(key) {\n",
              "          const quickchartButtonEl =\n",
              "            document.querySelector('#' + key + ' button');\n",
              "          quickchartButtonEl.disabled = true;  // To prevent multiple clicks.\n",
              "          quickchartButtonEl.classList.add('colab-df-spinner');\n",
              "          try {\n",
              "            const charts = await google.colab.kernel.invokeFunction(\n",
              "                'suggestCharts', [key], {});\n",
              "          } catch (error) {\n",
              "            console.error('Error during call to suggestCharts:', error);\n",
              "          }\n",
              "          quickchartButtonEl.classList.remove('colab-df-spinner');\n",
              "          quickchartButtonEl.classList.add('colab-df-quickchart-complete');\n",
              "        }\n",
              "        (() => {\n",
              "          let quickchartButtonEl =\n",
              "            document.querySelector('#df-8aa3be59-1b34-41cd-bb1f-b2fefdbdbf80 button');\n",
              "          quickchartButtonEl.style.display =\n",
              "            google.colab.kernel.accessAllowed ? 'block' : 'none';\n",
              "        })();\n",
              "      </script>\n",
              "    </div>\n",
              "\n",
              "  <div id=\"id_b70cbaaf-2733-491a-b87b-50164ff3094a\">\n",
              "    <style>\n",
              "      .colab-df-generate {\n",
              "        background-color: #E8F0FE;\n",
              "        border: none;\n",
              "        border-radius: 50%;\n",
              "        cursor: pointer;\n",
              "        display: none;\n",
              "        fill: #1967D2;\n",
              "        height: 32px;\n",
              "        padding: 0 0 0 0;\n",
              "        width: 32px;\n",
              "      }\n",
              "\n",
              "      .colab-df-generate:hover {\n",
              "        background-color: #E2EBFA;\n",
              "        box-shadow: 0px 1px 2px rgba(60, 64, 67, 0.3), 0px 1px 3px 1px rgba(60, 64, 67, 0.15);\n",
              "        fill: #174EA6;\n",
              "      }\n",
              "\n",
              "      [theme=dark] .colab-df-generate {\n",
              "        background-color: #3B4455;\n",
              "        fill: #D2E3FC;\n",
              "      }\n",
              "\n",
              "      [theme=dark] .colab-df-generate:hover {\n",
              "        background-color: #434B5C;\n",
              "        box-shadow: 0px 1px 3px 1px rgba(0, 0, 0, 0.15);\n",
              "        filter: drop-shadow(0px 1px 2px rgba(0, 0, 0, 0.3));\n",
              "        fill: #FFFFFF;\n",
              "      }\n",
              "    </style>\n",
              "    <button class=\"colab-df-generate\" onclick=\"generateWithVariable('df_date')\"\n",
              "            title=\"Generate code using this dataframe.\"\n",
              "            style=\"display:none;\">\n",
              "\n",
              "  <svg xmlns=\"http://www.w3.org/2000/svg\" height=\"24px\"viewBox=\"0 0 24 24\"\n",
              "       width=\"24px\">\n",
              "    <path d=\"M7,19H8.4L18.45,9,17,7.55,7,17.6ZM5,21V16.75L18.45,3.32a2,2,0,0,1,2.83,0l1.4,1.43a1.91,1.91,0,0,1,.58,1.4,1.91,1.91,0,0,1-.58,1.4L9.25,21ZM18.45,9,17,7.55Zm-12,3A5.31,5.31,0,0,0,4.9,8.1,5.31,5.31,0,0,0,1,6.5,5.31,5.31,0,0,0,4.9,4.9,5.31,5.31,0,0,0,6.5,1,5.31,5.31,0,0,0,8.1,4.9,5.31,5.31,0,0,0,12,6.5,5.46,5.46,0,0,0,6.5,12Z\"/>\n",
              "  </svg>\n",
              "    </button>\n",
              "    <script>\n",
              "      (() => {\n",
              "      const buttonEl =\n",
              "        document.querySelector('#id_b70cbaaf-2733-491a-b87b-50164ff3094a button.colab-df-generate');\n",
              "      buttonEl.style.display =\n",
              "        google.colab.kernel.accessAllowed ? 'block' : 'none';\n",
              "\n",
              "      buttonEl.onclick = () => {\n",
              "        google.colab.notebook.generateWithVariable('df_date');\n",
              "      }\n",
              "      })();\n",
              "    </script>\n",
              "  </div>\n",
              "\n",
              "    </div>\n",
              "  </div>\n"
            ],
            "application/vnd.google.colaboratory.intrinsic+json": {
              "type": "dataframe",
              "variable_name": "df_date",
              "summary": "{\n  \"name\": \"df_date\",\n  \"rows\": 3,\n  \"fields\": [\n    {\n      \"column\": \"date_str\",\n      \"properties\": {\n        \"dtype\": \"object\",\n        \"num_unique_values\": 3,\n        \"samples\": [\n          \"2025-07-01\",\n          \"2025-08-01\",\n          \"2025-09-01\"\n        ],\n        \"semantic_type\": \"\",\n        \"description\": \"\"\n      }\n    },\n    {\n      \"column\": \"date\",\n      \"properties\": {\n        \"dtype\": \"date\",\n        \"min\": \"2025-07-01 00:00:00\",\n        \"max\": \"2025-09-01 00:00:00\",\n        \"num_unique_values\": 3,\n        \"samples\": [\n          \"2025-07-01 00:00:00\",\n          \"2025-08-01 00:00:00\",\n          \"2025-09-01 00:00:00\"\n        ],\n        \"semantic_type\": \"\",\n        \"description\": \"\"\n      }\n    },\n    {\n      \"column\": \"date_formatted\",\n      \"properties\": {\n        \"dtype\": \"object\",\n        \"num_unique_values\": 3,\n        \"samples\": [\n          \"2025/07/01\",\n          \"2025/08/01\",\n          \"2025/09/01\"\n        ],\n        \"semantic_type\": \"\",\n        \"description\": \"\"\n      }\n    }\n  ]\n}"
            }
          },
          "metadata": {},
          "execution_count": 11
        }
      ]
    },
    {
      "cell_type": "markdown",
      "source": [
        "## 7-8 실습 시나리오 - 데이터 정제"
      ],
      "metadata": {
        "id": "JN53NexmIDPv"
      }
    },
    {
      "cell_type": "markdown",
      "source": [
        "### [재수행] 6-5 실습 시나리오 - Kaggle을 활용한 데이터 수집 및 측정"
      ],
      "metadata": {
        "id": "KZC--SWJtKRB"
      }
    },
    {
      "cell_type": "code",
      "source": [
        "import pandas as pd\n",
        "\n",
        "#crovery sales 데이터 dataframe로드\n",
        "train = pd.read_csv('train.csv')\n",
        "stores = pd.read_csv('stores.csv')\n",
        "transactions = pd.read_csv('transactions.csv')\n",
        "oil = pd.read_csv('oil.csv')\n",
        "holidays_events = pd.read_csv('holidays_events.csv')"
      ],
      "metadata": {
        "id": "b72mIi3DbX3n"
      },
      "execution_count": 12,
      "outputs": []
    },
    {
      "cell_type": "markdown",
      "source": [
        "### 데이터 분포 시각화"
      ],
      "metadata": {
        "id": "bTP3SY9ZINsp"
      }
    },
    {
      "cell_type": "code",
      "source": [
        "plt.figure(figsize=(10, 6))\n",
        "sns.histplot(train['sales'], bins=50)\n",
        "plt.title(\"판매량 분포\")\n",
        "plt.xlabel(\"판매량\")\n",
        "plt.ylabel(\"빈도\")\n",
        "plt.xlim(0, 5000)\n",
        "plt.show()\n",
        "\n",
        "store_sales = train.groupby('store_nbr')['sales'].mean().reset_index()\n",
        "plt.figure(figsize=(12, 6))\n",
        "sns.barplot(x='store_nbr', y='sales', data=store_sales)\n",
        "plt.title(\"매장별 평균 판매량\")\n",
        "plt.xlabel(\"매장 번호\")\n",
        "plt.ylabel(\"평균 판매량\")\n",
        "plt.xticks(rotation=90)\n",
        "plt.show()"
      ],
      "metadata": {
        "id": "5k614LMPaS5I",
        "outputId": "b1a6c2e1-d61c-4dd0-e423-4413878eafef",
        "colab": {
          "base_uri": "https://localhost:8080/",
          "height": 900
        },
        "collapsed": true
      },
      "execution_count": 13,
      "outputs": [
        {
          "output_type": "display_data",
          "data": {
            "text/plain": [
              "<Figure size 1000x600 with 1 Axes>"
            ],
            "image/png": "[encoded data removed]"
          },
          "metadata": {}
        },
        {
          "output_type": "display_data",
          "data": {
            "text/plain": [
              "<Figure size 1200x600 with 1 Axes>"
            ],
            "image/png": "[encoded data removed]"
          },
          "metadata": {}
        }
      ]
    },
    {
      "cell_type": "markdown",
      "source": [
        "### 결측치 처리"
      ],
      "metadata": {
        "id": "c5OAhNibIa4u"
      }
    },
    {
      "cell_type": "code",
      "source": [
        "## 판매, 매장, 거래, 원유, 휴일이벤트 데이터 결측치\n",
        "print(train.isnull().sum())\n",
        "print(stores.isnull().sum())\n",
        "print(transactions.isnull().sum())\n",
        "print(oil.isnull().sum())\n",
        "print(holidays_events.isnull().sum())"
      ],
      "metadata": {
        "id": "oHN3jYRSaU7A",
        "colab": {
          "base_uri": "https://localhost:8080/"
        },
        "outputId": "90d7a432-c6de-4373-d097-001bf1e93540"
      },
      "execution_count": 14,
      "outputs": [
        {
          "output_type": "stream",
          "name": "stdout",
          "text": [
            "id             0\n",
            "date           0\n",
            "store_nbr      0\n",
            "family         0\n",
            "sales          0\n",
            "onpromotion    0\n",
            "dtype: int64\n",
            "store_nbr    0\n",
            "city         0\n",
            "state        0\n",
            "type         0\n",
            "cluster      0\n",
            "dtype: int64\n",
            "date            0\n",
            "store_nbr       0\n",
            "transactions    0\n",
            "dtype: int64\n",
            "date           0\n",
            "dcoilwtico    43\n",
            "dtype: int64\n",
            "date           0\n",
            "type           0\n",
            "locale         0\n",
            "locale_name    0\n",
            "description    0\n",
            "transferred    0\n",
            "dtype: int64\n"
          ]
        }
      ]
    },
    {
      "cell_type": "code",
      "source": [
        "import missingno as msno\n",
        "\n",
        "msno.matrix(oil)\n",
        "plt.title(\"원유 가격 데이터 결측치 분포\")\n",
        "plt.show()\n",
        "\n",
        "oil['date'] = pd.to_datetime(oil['date'])\n",
        "plt.figure(figsize=(12, 6))\n",
        "plt.plot(oil['date'], oil['dcoilwtico'])\n",
        "plt.title(\"시간에 따른 원유 가격 변화\")\n",
        "plt.xlabel(\"날짜\")\n",
        "plt.ylabel(\"원유 가격\")\n",
        "plt.grid(True)\n",
        "plt.show()"
      ],
      "metadata": {
        "id": "a3QQecfbaXA4",
        "colab": {
          "base_uri": "https://localhost:8080/",
          "height": 766
        },
        "outputId": "7b9c4dd0-452e-4519-a99f-6d39412c8bf9"
      },
      "execution_count": 15,
      "outputs": [
        {
          "output_type": "display_data",
          "data": {
            "text/plain": [
              "<Figure size 2500x1000 with 2 Axes>"
            ],
            "image/png": "[encoded data removed]"
          },
          "metadata": {}
        },
        {
          "output_type": "display_data",
          "data": {
            "text/plain": [
              "<Figure size 1200x600 with 1 Axes>"
            ],
            "image/png": "[encoded data removed]"
          },
          "metadata": {}
        }
      ]
    },
    {
      "cell_type": "code",
      "source": [
        "oil_cleaned = oil.copy()\n",
        "\n",
        "### 선형 보간법 적용한 원유 가격 데이터\n",
        "oil_cleaned['dcoilwtico']=oil_cleaned['dcoilwtico'].interpolate(methold='linear')\n",
        "\n",
        "plt.figure(figsize=(12, 6))\n",
        "plt.plot(oil_cleaned['date'], oil_cleaned['dcoilwtico'], 'b-')\n",
        "plt.title(\"원유 가격 보간 후 데이터\")\n",
        "plt.xlabel(\"날짜\")\n",
        "plt.ylabel(\"원유 가격\")\n",
        "plt.grid(True)\n",
        "plt.show()"
      ],
      "metadata": {
        "id": "IMZPXS4oaZJI",
        "colab": {
          "base_uri": "https://localhost:8080/",
          "height": 425
        },
        "outputId": "84b9ee70-fba1-4db4-ef55-b811c32a8844"
      },
      "execution_count": 18,
      "outputs": [
        {
          "output_type": "display_data",
          "data": {
            "text/plain": [
              "<Figure size 1200x600 with 1 Axes>"
            ],
            "image/png": "[encoded data removed]"
          },
          "metadata": {}
        }
      ]
    },
    {
      "cell_type": "markdown",
      "source": [
        "### 이상치 처리"
      ],
      "metadata": {
        "id": "2Tq1zN9oIkmz"
      }
    },
    {
      "cell_type": "code",
      "source": [
        "### 제품 계열별 판매 데이터 IQR 계산\n",
        "\n",
        "\n",
        "### 상한값 초과 판매량 이상치 분류\n",
        "\n",
        "\n",
        "print(f\"이상치 개수: {total_outliers:,}건\")\n",
        "print(f\"전체 대비 비율: {total_ratio:.2%}\")\n",
        "\n",
        "plt.figure(figsize=(15,6))\n",
        "sns.stripplot(x='family', y='sales', hue=train_enhanced['is_outlier'],\n",
        "              data=train_enhanced, palette={False:'blue', True:'red'})\n",
        "plt.xticks(rotation=90)\n",
        "plt.yscale('log')\n",
        "plt.title('계열별 판매량 분포 (파랑: 정상, 빨강: 이상)')\n",
        "plt.show()"
      ],
      "metadata": {
        "id": "Ms25XeJ0abZE"
      },
      "execution_count": null,
      "outputs": []
    },
    {
      "cell_type": "code",
      "source": [
        "upper_bounds = family_bounds['upper_bound']\n",
        "\n",
        "### 판매량이 상한값 초과 시, 판매량으로 상한값으로 대체\n",
        "train_cleaned  = train.copy()\n",
        "\n",
        "\n",
        "changed_count = (train['sales'] != train_cleaned ['sales']).sum()\n",
        "print(f\"대체된 데이터 수: {changed_count}건\")"
      ],
      "metadata": {
        "id": "SO563dJzadWw"
      },
      "execution_count": null,
      "outputs": []
    },
    {
      "cell_type": "markdown",
      "source": [
        "### 날짜 데이터 처리"
      ],
      "metadata": {
        "id": "vxifBGTYIq4r"
      }
    },
    {
      "cell_type": "code",
      "source": [
        "### 판매, 거래, 휴일 이벤트, 원율 데이터 내 date 컬럼 데이터 datetime 데이터 타입으로 변경\n",
        "\n",
        "\n",
        "\n",
        "train_cleaned['year'] = train_cleaned['date'].dt.year\n",
        "train_cleaned['month'] = train_cleaned['date'].dt.month\n",
        "train_cleaned['day'] = train_cleaned['date'].dt.day\n",
        "train_cleaned['dayofweek'] = train_cleaned['date'].dt.dayofweek\n",
        "### 주말, 월초, 월말 여부 추철\n",
        "\n",
        "\n",
        "print(\"날짜 특성 추출 결과:\")\n",
        "print(train_cleaned[['date', 'year', 'month', 'day', 'dayofweek', 'weekend', 'is_month_start', 'is_month_end']].head())"
      ],
      "metadata": {
        "id": "PoP0LGutafNG"
      },
      "execution_count": null,
      "outputs": []
    },
    {
      "cell_type": "code",
      "source": [
        "## 요일별 평균 판매량을 계산\n",
        "\n",
        "## 요일 출력값 변경\n",
        "\n",
        "plt.figure(figsize=(10, 6))\n",
        "sns.barplot(x='day_name', y='sales', data=day_sales)\n",
        "plt.title(\"요일별 평균 판매량\")\n",
        "plt.xlabel(\"요일\")\n",
        "plt.ylabel(\"평균 판매량\")\n",
        "plt.show()"
      ],
      "metadata": {
        "id": "YoM6Al8eahG_"
      },
      "execution_count": null,
      "outputs": []
    },
    {
      "cell_type": "markdown",
      "source": [
        "### 데이터 통합"
      ],
      "metadata": {
        "id": "q7ik1uccIuUz"
      }
    },
    {
      "cell_type": "code",
      "source": [
        "## 판매, 거래 데이터 통합\n",
        "\n",
        "\n",
        "## 매장 데이터 통합\n",
        "\n",
        "\n",
        "## 원유 데이터 통합\n",
        "\n",
        "\n",
        "print(\"최종 데이터셋 정보:\")\n",
        "print(f\"행 개수: {train_final.shape[0]}, 열 개수: {train_final.shape[1]}\")\n",
        "print(train_final.columns.tolist())\n",
        "print(train_final.head())"
      ],
      "metadata": {
        "id": "nxAInLIwajY6"
      },
      "execution_count": null,
      "outputs": []
    }
  ]
}